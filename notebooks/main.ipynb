{
 "cells": [
  {
   "cell_type": "code",
   "execution_count": 1,
   "id": "6b58db27",
   "metadata": {},
   "outputs": [
    {
     "name": "stderr",
     "output_type": "stream",
     "text": [
      "No normalization for SPS. Feature removed!\n",
      "No normalization for AvgIpc. Feature removed!\n",
      "No normalization for NumAmideBonds. Feature removed!\n",
      "No normalization for NumAtomStereoCenters. Feature removed!\n",
      "No normalization for NumBridgeheadAtoms. Feature removed!\n",
      "No normalization for NumHeterocycles. Feature removed!\n",
      "No normalization for NumSpiroAtoms. Feature removed!\n",
      "No normalization for NumUnspecifiedAtomStereoCenters. Feature removed!\n",
      "No normalization for Phi. Feature removed!\n",
      "d:\\unsolth_env\\deep_learning_env\\lib\\site-packages\\transformers\\utils\\hub.py:111: FutureWarning: Using `TRANSFORMERS_CACHE` is deprecated and will be removed in v5 of Transformers. Use `HF_HOME` instead.\n",
      "  warnings.warn(\n",
      "Skipped loading some Tensorflow models, missing a dependency. No module named 'tensorflow'\n",
      "Skipped loading modules with pytorch-geometric dependency, missing a dependency. No module named 'torch_geometric'\n",
      "Skipped loading modules with pytorch-geometric dependency, missing a dependency. cannot import name 'DMPNN' from 'deepchem.models.torch_models' (d:\\unsolth_env\\deep_learning_env\\lib\\site-packages\\deepchem\\models\\torch_models\\__init__.py)\n",
      "Skipped loading modules with pytorch-lightning dependency, missing a dependency. No module named 'lightning'\n",
      "Skipped loading some Jax models, missing a dependency. No module named 'jax'\n",
      "Skipped loading some PyTorch models, missing a dependency. No module named 'tensorflow'\n"
     ]
    }
   ],
   "source": [
    "import deepchem as dc"
   ]
  },
  {
   "cell_type": "code",
   "execution_count": 16,
   "id": "491e0f08",
   "metadata": {},
   "outputs": [],
   "source": [
    "import torch.nn as nn\n",
    "from torch.utils.data import DataLoader,Dataset\n",
    "import torch.optim as optim\n",
    "import torch\n",
    "import pandas as pd"
   ]
  },
  {
   "cell_type": "code",
   "execution_count": 4,
   "id": "914ea30d",
   "metadata": {},
   "outputs": [],
   "source": [
    "# Load the data from deepchem"
   ]
  },
  {
   "cell_type": "code",
   "execution_count": 5,
   "id": "441d6496",
   "metadata": {},
   "outputs": [
    {
     "name": "stderr",
     "output_type": "stream",
     "text": [
      "'split' is deprecated.  Use 'splitter' instead.\n",
      "[18:16:33] WARNING: not removing hydrogen atom without neighbors\n",
      "[18:16:33] Explicit valence for atom # 8 Al, 6, is greater than permitted\n",
      "Failed to featurize datapoint 1322, None. Appending empty array\n",
      "Exception message: Python argument types in\n",
      "    rdkit.Chem.rdmolfiles.CanonicalRankAtoms(NoneType)\n",
      "did not match C++ signature:\n",
      "    CanonicalRankAtoms(class RDKit::ROMol mol, bool breakTies=True, bool includeChirality=True, bool includeIsotopes=True, bool includeAtomMaps=True, bool includeChiralPresence=False)\n",
      "[18:16:33] Explicit valence for atom # 3 Al, 6, is greater than permitted\n",
      "Failed to featurize datapoint 2290, None. Appending empty array\n",
      "Exception message: Python argument types in\n",
      "    rdkit.Chem.rdmolfiles.CanonicalRankAtoms(NoneType)\n",
      "did not match C++ signature:\n",
      "    CanonicalRankAtoms(class RDKit::ROMol mol, bool breakTies=True, bool includeChirality=True, bool includeIsotopes=True, bool includeAtomMaps=True, bool includeChiralPresence=False)\n",
      "[18:16:33] Explicit valence for atom # 4 Al, 6, is greater than permitted\n",
      "Failed to featurize datapoint 2297, None. Appending empty array\n",
      "Exception message: Python argument types in\n",
      "    rdkit.Chem.rdmolfiles.CanonicalRankAtoms(NoneType)\n",
      "did not match C++ signature:\n",
      "    CanonicalRankAtoms(class RDKit::ROMol mol, bool breakTies=True, bool includeChirality=True, bool includeIsotopes=True, bool includeAtomMaps=True, bool includeChiralPresence=False)\n",
      "[18:16:33] Explicit valence for atom # 4 Al, 6, is greater than permitted\n",
      "Failed to featurize datapoint 3558, None. Appending empty array\n",
      "Exception message: Python argument types in\n",
      "    rdkit.Chem.rdmolfiles.CanonicalRankAtoms(NoneType)\n",
      "did not match C++ signature:\n",
      "    CanonicalRankAtoms(class RDKit::ROMol mol, bool breakTies=True, bool includeChirality=True, bool includeIsotopes=True, bool includeAtomMaps=True, bool includeChiralPresence=False)\n",
      "[18:16:34] Explicit valence for atom # 9 Al, 6, is greater than permitted\n",
      "Failed to featurize datapoint 4565, None. Appending empty array\n",
      "Exception message: Python argument types in\n",
      "    rdkit.Chem.rdmolfiles.CanonicalRankAtoms(NoneType)\n",
      "did not match C++ signature:\n",
      "    CanonicalRankAtoms(class RDKit::ROMol mol, bool breakTies=True, bool includeChirality=True, bool includeIsotopes=True, bool includeAtomMaps=True, bool includeChiralPresence=False)\n",
      "[18:16:34] Explicit valence for atom # 5 Al, 6, is greater than permitted\n",
      "Failed to featurize datapoint 4649, None. Appending empty array\n",
      "Exception message: Python argument types in\n",
      "    rdkit.Chem.rdmolfiles.CanonicalRankAtoms(NoneType)\n",
      "did not match C++ signature:\n",
      "    CanonicalRankAtoms(class RDKit::ROMol mol, bool breakTies=True, bool includeChirality=True, bool includeIsotopes=True, bool includeAtomMaps=True, bool includeChiralPresence=False)\n",
      "[18:16:34] Explicit valence for atom # 16 Al, 6, is greater than permitted\n",
      "Failed to featurize datapoint 5538, None. Appending empty array\n",
      "Exception message: Python argument types in\n",
      "    rdkit.Chem.rdmolfiles.CanonicalRankAtoms(NoneType)\n",
      "did not match C++ signature:\n",
      "    CanonicalRankAtoms(class RDKit::ROMol mol, bool breakTies=True, bool includeChirality=True, bool includeIsotopes=True, bool includeAtomMaps=True, bool includeChiralPresence=False)\n",
      "[18:16:34] Explicit valence for atom # 20 Al, 6, is greater than permitted\n",
      "Failed to featurize datapoint 6723, None. Appending empty array\n",
      "Exception message: Python argument types in\n",
      "    rdkit.Chem.rdmolfiles.CanonicalRankAtoms(NoneType)\n",
      "did not match C++ signature:\n",
      "    CanonicalRankAtoms(class RDKit::ROMol mol, bool breakTies=True, bool includeChirality=True, bool includeIsotopes=True, bool includeAtomMaps=True, bool includeChiralPresence=False)\n",
      "Exception message: setting an array element with a sequence. The requested array has an inhomogeneous shape after 1 dimensions. The detected shape was (7831,) + inhomogeneous part.\n"
     ]
    }
   ],
   "source": [
    "tasks, datasets, transformers = dc.molnet.load_tox21(featurizer='Raw', split='random')"
   ]
  },
  {
   "cell_type": "code",
   "execution_count": 9,
   "id": "1d74af69",
   "metadata": {},
   "outputs": [],
   "source": [
    "train_dataset,val_dataset,test_dataset = datasets"
   ]
  },
  {
   "cell_type": "code",
   "execution_count": 10,
   "id": "39841a0e",
   "metadata": {},
   "outputs": [
    {
     "data": {
      "text/plain": [
       "<DiskDataset X.shape: (np.int64(6258),), y.shape: (np.int64(6258), np.int64(12)), w.shape: (np.int64(6258), np.int64(12)), task_names: ['NR-AR' 'NR-AR-LBD' 'NR-AhR' ... 'SR-HSE' 'SR-MMP' 'SR-p53']>"
      ]
     },
     "execution_count": 10,
     "metadata": {},
     "output_type": "execute_result"
    }
   ],
   "source": [
    "train_dataset"
   ]
  },
  {
   "cell_type": "code",
   "execution_count": 13,
   "id": "6b224171",
   "metadata": {},
   "outputs": [],
   "source": [
    "smiles_list = train_dataset.ids[:10]\n",
    "labels = train_dataset.y[:10]"
   ]
  },
  {
   "cell_type": "code",
   "execution_count": 17,
   "id": "49ceee02",
   "metadata": {},
   "outputs": [
    {
     "name": "stdout",
     "output_type": "stream",
     "text": [
      "                                              SMILES  NR-AR  NR-AR-LBD  \\\n",
      "0  CC[N+](CC)(CCNC(=O)C(=O)NCC[N+](CC)(CC)Cc1cccc...    0.0        0.0   \n",
      "1                                        O=CN1CCOCC1    0.0        0.0   \n",
      "2                     COC(=O)C1(O)c2ccccc2-c2ccccc21    0.0        0.0   \n",
      "3                           CCOC(=O)CCCCCCCCC(=O)OCC    0.0        0.0   \n",
      "4                  O=C(O)c1ccccc1Nc1cccc(C(F)(F)F)c1    0.0        0.0   \n",
      "5  C[C@]12CC[C@H]3[C@@H](CCC4=CC(=O)CC[C@@]43C)[C...    0.0        0.0   \n",
      "6  CC(C)COC(=O)OCN1C(=O)CN(CCN2CC(=O)N(COC(=O)OCC...    0.0        0.0   \n",
      "7                                         OCC(Cl)CCl    0.0        0.0   \n",
      "8                         Cc1ccc([N+](=O)[O-])c(N)c1    0.0        0.0   \n",
      "9             N[C@H]1C(O)O[C@H](CO)[C@@H](O)[C@@H]1O    0.0        0.0   \n",
      "\n",
      "   NR-AhR  NR-Aromatase  NR-ER  NR-ER-LBD  NR-PPAR-gamma  SR-ARE  SR-ATAD5  \\\n",
      "0     0.0           0.0    0.0        0.0            0.0     0.0       0.0   \n",
      "1     0.0           0.0    0.0        0.0            0.0     0.0       0.0   \n",
      "2     0.0           0.0    0.0        0.0            0.0     0.0       0.0   \n",
      "3     0.0           0.0    0.0        0.0            0.0     0.0       0.0   \n",
      "4     0.0           0.0    0.0        0.0            0.0     1.0       0.0   \n",
      "5     0.0           0.0    0.0        0.0            0.0     0.0       0.0   \n",
      "6     0.0           0.0    0.0        0.0            0.0     0.0       0.0   \n",
      "7     0.0           0.0    0.0        0.0            0.0     0.0       0.0   \n",
      "8     0.0           0.0    0.0        0.0            0.0     0.0       0.0   \n",
      "9     0.0           0.0    1.0        0.0            0.0     0.0       0.0   \n",
      "\n",
      "   SR-HSE  SR-MMP  SR-p53  \n",
      "0     0.0     0.0     0.0  \n",
      "1     0.0     0.0     0.0  \n",
      "2     0.0     0.0     0.0  \n",
      "3     0.0     0.0     0.0  \n",
      "4     0.0     1.0     1.0  \n",
      "5     0.0     0.0     0.0  \n",
      "6     0.0     0.0     1.0  \n",
      "7     0.0     0.0     0.0  \n",
      "8     0.0     0.0     0.0  \n",
      "9     0.0     0.0     0.0  \n"
     ]
    }
   ],
   "source": [
    "df = pd.DataFrame(labels, columns=tasks)\n",
    "df.insert(0, \"SMILES\", smiles_list)\n",
    "print(df)"
   ]
  },
  {
   "cell_type": "code",
   "execution_count": 19,
   "id": "977590eb",
   "metadata": {},
   "outputs": [
    {
     "data": {
      "image/png": "[encoded data removed]",
      "text/plain": [
       "<Figure size 1200x600 with 1 Axes>"
      ]
     },
     "metadata": {},
     "output_type": "display_data"
    }
   ],
   "source": [
    "import matplotlib.pyplot as plt\n",
    "import numpy as np\n",
    "\n",
    "# Count 1s (toxic), ignoring NaNs\n",
    "label_df = pd.DataFrame(train_dataset.y, columns=tasks)\n",
    "label_counts = label_df.apply(lambda col: pd.Series({\n",
    "    'Toxic (1)': np.sum(col == 1),\n",
    "    'Non-toxic (0)': np.sum(col == 0),\n",
    "    'Missing (NaN)': np.sum(np.isnan(col))\n",
    "}), axis=0).T\n",
    "\n",
    "label_counts[['Toxic (1)', 'Non-toxic (0)']].plot(kind='bar', stacked=True, figsize=(12, 6))\n",
    "plt.ylabel(\"Sample Count\")\n",
    "plt.title(\"Tox21 Label Distribution (Train Set)\")\n",
    "plt.grid(True, axis='y')\n",
    "plt.xticks(rotation=45)\n",
    "plt.tight_layout()\n",
    "plt.show()\n"
   ]
  },
  {
   "cell_type": "code",
   "execution_count": 20,
   "id": "14362838",
   "metadata": {},
   "outputs": [
    {
     "name": "stdout",
     "output_type": "stream",
     "text": [
      "               NR-AR  NR-AR-LBD  NR-AhR  NR-Aromatase  NR-ER  NR-ER-LBD  \\\n",
      "Total Samples   6258       6258    6258          6258   6258       6258   \n",
      "Labeled         6258       6258    6258          6258   6258       6258   \n",
      "Toxic            247        194     604           246    625        283   \n",
      "Non-toxic       6011       6064    5654          6012   5633       5975   \n",
      "Missing            0          0       0             0      0          0   \n",
      "\n",
      "               NR-PPAR-gamma  SR-ARE  SR-ATAD5  SR-HSE  SR-MMP  SR-p53  \n",
      "Total Samples           6258    6258      6258    6258    6258    6258  \n",
      "Labeled                 6258    6258      6258    6258    6258    6258  \n",
      "Toxic                    147     737       197     297     747     330  \n",
      "Non-toxic               6111    5521      6061    5961    5511    5928  \n",
      "Missing                    0       0         0       0       0       0  \n"
     ]
    }
   ],
   "source": [
    "summary_stats = pd.DataFrame({\n",
    "    \"Total Samples\": label_df.shape[0],\n",
    "    \"Labeled\": label_df.notna().sum(),\n",
    "    \"Toxic\": (label_df == 1).sum(),\n",
    "    \"Non-toxic\": (label_df == 0).sum(),\n",
    "    \"Missing\": label_df.isna().sum()\n",
    "}).T\n",
    "\n",
    "print(summary_stats)\n"
   ]
  },
  {
   "cell_type": "code",
   "execution_count": 22,
   "id": "17ab5ef8",
   "metadata": {},
   "outputs": [],
   "source": [
    "label_df = pd.DataFrame(train_dataset.y, columns=tasks)\n",
    "missing_counts = label_df.isna().sum()\n",
    "positive_counts = (label_df == 1).sum()\n",
    "negative_counts = (label_df == 0).sum()\n",
    "\n",
    "label_summary = pd.DataFrame({\n",
    "    'Toxic (1)': positive_counts,\n",
    "    'Non-Toxic (0)': negative_counts,\n",
    "    'Missing (NaN)': missing_counts\n",
    "})"
   ]
  },
  {
   "cell_type": "code",
   "execution_count": 23,
   "id": "5dccd354",
   "metadata": {},
   "outputs": [
    {
     "data": {
      "image/png": "[encoded data removed]",
      "text/plain": [
       "<Figure size 1400x600 with 1 Axes>"
      ]
     },
     "metadata": {},
     "output_type": "display_data"
    }
   ],
   "source": [
    "fig, ax = plt.subplots(figsize=(14, 6))\n",
    "label_summary[['Toxic (1)', 'Non-Toxic (0)']].plot(kind='bar', stacked=True, ax=ax, color=['red', 'green'])\n",
    "plt.title(\"Tox21 - Toxicity Label Distribution (Train Set)\")\n",
    "plt.ylabel(\"Number of Molecules\")\n",
    "plt.xticks(rotation=45)\n",
    "plt.grid(True, axis='y')\n",
    "plt.tight_layout()\n",
    "plt.show()"
   ]
  },
  {
   "cell_type": "code",
   "execution_count": 27,
   "id": "43d60769",
   "metadata": {},
   "outputs": [],
   "source": [
    "def tokenize(smiles):\n",
    "    \"\"\"Tokenize smile strings into a list of characters\"\"\"\n",
    "    return list(smiles)"
   ]
  },
  {
   "cell_type": "code",
   "execution_count": 30,
   "id": "3940edc7",
   "metadata": {},
   "outputs": [
    {
     "data": {
      "text/plain": [
       "['O', '=', 'C', 'N', '1', 'C', 'C', 'O', 'C', 'C', '1']"
      ]
     },
     "execution_count": 30,
     "metadata": {},
     "output_type": "execute_result"
    }
   ],
   "source": [
    "smiles_list1 = tokenize(\"O=CN1CCOCC1\")\n",
    "smiles_list1"
   ]
  },
  {
   "cell_type": "code",
   "execution_count": null,
   "id": "dc27c715",
   "metadata": {},
   "outputs": [],
   "source": []
  },
  {
   "cell_type": "code",
   "execution_count": null,
   "id": "b1252582",
   "metadata": {},
   "outputs": [],
   "source": []
  },
  {
   "cell_type": "code",
   "execution_count": 48,
   "id": "24b08c36",
   "metadata": {},
   "outputs": [
    {
     "data": {
      "text/plain": [
       "['O', '=', 'C', 'N', '1', 'C', 'C', 'O', 'C', 'C', '1']"
      ]
     },
     "execution_count": 48,
     "metadata": {},
     "output_type": "execute_result"
    }
   ],
   "source": [
    "smiles_list1"
   ]
  },
  {
   "cell_type": "code",
   "execution_count": 49,
   "id": "0732e189",
   "metadata": {},
   "outputs": [
    {
     "data": {
      "text/plain": [
       "{'1', '=', 'C', 'N', 'O'}"
      ]
     },
     "execution_count": 49,
     "metadata": {},
     "output_type": "execute_result"
    }
   ],
   "source": [
    "set(smiles_list1)"
   ]
  },
  {
   "cell_type": "code",
   "execution_count": 50,
   "id": "bcf18409",
   "metadata": {},
   "outputs": [
    {
     "data": {
      "text/plain": [
       "{'1': 2, '=': 3, 'C': 8, 'N': 9, 'O': 11}"
      ]
     },
     "execution_count": 50,
     "metadata": {},
     "output_type": "execute_result"
    }
   ],
   "source": [
    "token_ids = {token : i+1 for i,token in enumerate(sorted(smiles_list1))}\n",
    "token_ids"
   ]
  },
  {
   "cell_type": "code",
   "execution_count": null,
   "id": "c3cd31ad",
   "metadata": {},
   "outputs": [],
   "source": [
    "def build_vocabulary(smiles_list):\n",
    "    \"\"\"Creates a token to id vocabulary\"\"\"\n",
    "    tokens = set(char for s in smiles_list for char in tokenize(s))\n",
    "    vocab = {token : i + 1 for i,token in enumerate(sorted(tokens))}\n",
    "    vocab['<PAD>'] = 0\n",
    "    return vocab"
   ]
  },
  {
   "cell_type": "code",
   "execution_count": 55,
   "id": "69093452",
   "metadata": {},
   "outputs": [],
   "source": [
    "vocab = build_vocabulary(smiles_list1)"
   ]
  },
  {
   "cell_type": "code",
   "execution_count": 57,
   "id": "0f40088a",
   "metadata": {},
   "outputs": [
    {
     "data": {
      "text/plain": [
       "{'1': 1, '=': 2, 'C': 3, 'N': 4, 'O': 5, '<PAD>': 0}"
      ]
     },
     "execution_count": 57,
     "metadata": {},
     "output_type": "execute_result"
    }
   ],
   "source": [
    "vocab"
   ]
  },
  {
   "cell_type": "code",
   "execution_count": 56,
   "id": "76afede0",
   "metadata": {},
   "outputs": [
    {
     "data": {
      "text/plain": [
       "3"
      ]
     },
     "execution_count": 56,
     "metadata": {},
     "output_type": "execute_result"
    }
   ],
   "source": [
    "vocab.get('C',0)"
   ]
  },
  {
   "cell_type": "code",
   "execution_count": 58,
   "id": "8d51324e",
   "metadata": {},
   "outputs": [],
   "source": [
    "def encode_smiles(smiles,vocab,max_len=120):\n",
    "    \"\"\"Converts a smile string to padded length of token indices\"\"\"\n",
    "    tokens = tokenize(smiles)\n",
    "    token_ids = [vocab.get(tok,0) for tok in tokens]\n",
    "    token_ids = token_ids[:max_len]\n",
    "    padding = [0] * (max_len - len(token_ids))\n",
    "    return token_ids + padding"
   ]
  },
  {
   "cell_type": "code",
   "execution_count": 62,
   "id": "4c19bded",
   "metadata": {},
   "outputs": [],
   "source": [
    "encoding = encode_smiles(\"O=CN1CCOCC1\",vocab)"
   ]
  },
  {
   "cell_type": "code",
   "execution_count": 63,
   "id": "28615c21",
   "metadata": {},
   "outputs": [
    {
     "data": {
      "text/plain": [
       "120"
      ]
     },
     "execution_count": 63,
     "metadata": {},
     "output_type": "execute_result"
    }
   ],
   "source": [
    "len(encoding)"
   ]
  },
  {
   "cell_type": "markdown",
   "id": "291bcb26",
   "metadata": {},
   "source": [
    "# Custom Dataset"
   ]
  },
  {
   "cell_type": "code",
   "execution_count": 64,
   "id": "9fc145b1",
   "metadata": {},
   "outputs": [],
   "source": [
    "class SMILESDataset(Dataset):\n",
    "    def __init__(self,smiles_list,labels,weights,vocab,max_len = 120):\n",
    "        self.smiles_list = smiles_list\n",
    "        self.labels = labels \n",
    "        self.weights = weights\n",
    "        self.vocab = vocab \n",
    "        self.max_len = max_len\n",
    "\n",
    "    def __len__(self):\n",
    "        return len(self.smiles_list)\n",
    "\n",
    "    def __getitem__(self,idx):\n",
    "        smiles = self.smiles_list[idx]\n",
    "        label = self.labels[idx]\n",
    "        weight = self.weights[idx]\n",
    "\n",
    "        input_ids = encode_smiles(smiles,self.vocab,self.max_len)\n",
    "\n",
    "        return (\n",
    "            torch.tensor(input_ids, dtype=torch.long),\n",
    "            torch.tensor(label, dtype=torch.float32),\n",
    "            torch.tensor(weight, dtype=torch.float32)\n",
    "        )\n"
   ]
  },
  {
   "cell_type": "code",
   "execution_count": 68,
   "id": "7af903d8",
   "metadata": {},
   "outputs": [],
   "source": [
    "smiles_train, y_train, w_train = train_dataset.ids,train_dataset.y, train_dataset.w\n",
    "smiles_val, y_val, w_val = val_dataset.ids, val_dataset.y, val_dataset.w\n",
    "smiles_test, y_test, w_test = test_dataset.ids, test_dataset.y, test_dataset.w"
   ]
  },
  {
   "cell_type": "code",
   "execution_count": 70,
   "id": "4fe29a74",
   "metadata": {},
   "outputs": [],
   "source": [
    "vocabulary = build_vocabulary(smiles_train)"
   ]
  },
  {
   "cell_type": "code",
   "execution_count": 74,
   "id": "56422094",
   "metadata": {},
   "outputs": [
    {
     "data": {
      "text/plain": [
       "{'#': 1,\n",
       " '(': 2,\n",
       " ')': 3,\n",
       " '+': 4,\n",
       " '-': 5,\n",
       " '.': 6,\n",
       " '/': 7,\n",
       " '1': 8,\n",
       " '2': 9,\n",
       " '3': 10,\n",
       " '4': 11,\n",
       " '5': 12,\n",
       " '6': 13,\n",
       " '7': 14,\n",
       " '8': 15,\n",
       " '9': 16,\n",
       " '=': 17,\n",
       " '@': 18,\n",
       " 'A': 19,\n",
       " 'B': 20,\n",
       " 'C': 21,\n",
       " 'D': 22,\n",
       " 'F': 23,\n",
       " 'G': 24,\n",
       " 'H': 25,\n",
       " 'I': 26,\n",
       " 'K': 27,\n",
       " 'M': 28,\n",
       " 'N': 29,\n",
       " 'O': 30,\n",
       " 'P': 31,\n",
       " 'S': 32,\n",
       " 'T': 33,\n",
       " 'V': 34,\n",
       " 'Y': 35,\n",
       " 'Z': 36,\n",
       " '[': 37,\n",
       " '\\\\': 38,\n",
       " ']': 39,\n",
       " 'a': 40,\n",
       " 'b': 41,\n",
       " 'c': 42,\n",
       " 'd': 43,\n",
       " 'e': 44,\n",
       " 'g': 45,\n",
       " 'i': 46,\n",
       " 'l': 47,\n",
       " 'n': 48,\n",
       " 'o': 49,\n",
       " 'r': 50,\n",
       " 's': 51,\n",
       " 't': 52,\n",
       " 'u': 53,\n",
       " 'y': 54,\n",
       " '<PAD>': 0}"
      ]
     },
     "execution_count": 74,
     "metadata": {},
     "output_type": "execute_result"
    }
   ],
   "source": [
    "vocabulary"
   ]
  },
  {
   "cell_type": "code",
   "execution_count": 78,
   "id": "2751354e",
   "metadata": {},
   "outputs": [
    {
     "data": {
      "text/plain": [
       "55"
      ]
     },
     "execution_count": 78,
     "metadata": {},
     "output_type": "execute_result"
    }
   ],
   "source": [
    "len(vocabulary)\n"
   ]
  },
  {
   "cell_type": "code",
   "execution_count": 79,
   "id": "db97feb5",
   "metadata": {},
   "outputs": [],
   "source": [
    "max_len = 120\n",
    "batch_size = 32"
   ]
  },
  {
   "cell_type": "code",
   "execution_count": 77,
   "id": "1ef1cb23",
   "metadata": {},
   "outputs": [],
   "source": [
    "train_dataset = SMILESDataset(smiles_train, y_train, w_train, vocab, max_len)\n",
    "val_dataset = SMILESDataset(smiles_val, y_val, w_val, vocab, max_len)\n",
    "test_dataset = SMILESDataset(smiles_test, y_test, w_test, vocab, max_len)"
   ]
  },
  {
   "cell_type": "code",
   "execution_count": 80,
   "id": "a7e1dd74",
   "metadata": {},
   "outputs": [],
   "source": [
    "train_loader = DataLoader(train_dataset, batch_size=batch_size, shuffle=True)\n",
    "val_loader = DataLoader(val_dataset, batch_size=batch_size)\n",
    "test_loader = DataLoader(test_dataset, batch_size=batch_size)"
   ]
  },
  {
   "cell_type": "code",
   "execution_count": 81,
   "id": "6ca90885",
   "metadata": {},
   "outputs": [
    {
     "data": {
      "text/plain": [
       "['NR-AR',\n",
       " 'NR-AR-LBD',\n",
       " 'NR-AhR',\n",
       " 'NR-Aromatase',\n",
       " 'NR-ER',\n",
       " 'NR-ER-LBD',\n",
       " 'NR-PPAR-gamma',\n",
       " 'SR-ARE',\n",
       " 'SR-ATAD5',\n",
       " 'SR-HSE',\n",
       " 'SR-MMP',\n",
       " 'SR-p53']"
      ]
     },
     "execution_count": 81,
     "metadata": {},
     "output_type": "execute_result"
    }
   ],
   "source": [
    "tasks"
   ]
  },
  {
   "cell_type": "code",
   "execution_count": 82,
   "id": "8eebc90d",
   "metadata": {},
   "outputs": [
    {
     "data": {
      "text/plain": [
       "12"
      ]
     },
     "execution_count": 82,
     "metadata": {},
     "output_type": "execute_result"
    }
   ],
   "source": [
    "len(tasks)"
   ]
  },
  {
   "cell_type": "code",
   "execution_count": 84,
   "id": "4015e17b",
   "metadata": {},
   "outputs": [],
   "source": [
    "num_labels = len(tasks)  # output dimension of lstm\n",
    "vocab_size = len(vocabulary)  # to create the embeddings"
   ]
  },
  {
   "cell_type": "code",
   "execution_count": 86,
   "id": "6362d775",
   "metadata": {},
   "outputs": [],
   "source": [
    "iterator = iter(train_loader)\n",
    "batch = next(iterator)"
   ]
  },
  {
   "cell_type": "code",
   "execution_count": 89,
   "id": "d0e01d6e",
   "metadata": {},
   "outputs": [],
   "source": [
    "smile,labels,weights = batch"
   ]
  },
  {
   "cell_type": "code",
   "execution_count": null,
   "id": "744af44a",
   "metadata": {},
   "outputs": [
    {
     "data": {
      "text/plain": [
       "tensor([[3, 3, 0,  ..., 0, 0, 0],\n",
       "        [3, 3, 4,  ..., 0, 0, 0],\n",
       "        [3, 3, 3,  ..., 0, 0, 0],\n",
       "        ...,\n",
       "        [5, 3, 1,  ..., 0, 0, 0],\n",
       "        [3, 4, 0,  ..., 0, 0, 0],\n",
       "        [3, 3, 3,  ..., 0, 0, 0]])"
      ]
     },
     "execution_count": 90,
     "metadata": {},
     "output_type": "execute_result"
    }
   ],
   "source": [
    "smile"
   ]
  },
  {
   "cell_type": "code",
   "execution_count": 93,
   "id": "9295b3d4",
   "metadata": {},
   "outputs": [
    {
     "data": {
      "text/plain": [
       "tensor([[0., 0., 0., 0., 0., 0., 0., 1., 0., 0., 1., 0.],\n",
       "        [0., 0., 0., 0., 0., 0., 0., 0., 0., 0., 0., 0.],\n",
       "        [0., 0., 0., 0., 0., 0., 0., 0., 0., 0., 0., 0.],\n",
       "        [1., 1., 0., 0., 0., 0., 0., 0., 0., 0., 0., 0.],\n",
       "        [0., 0., 0., 0., 0., 0., 0., 0., 0., 0., 0., 0.],\n",
       "        [0., 0., 0., 0., 0., 0., 0., 0., 0., 0., 0., 0.],\n",
       "        [0., 0., 0., 0., 0., 0., 0., 0., 0., 0., 0., 0.],\n",
       "        [0., 0., 0., 0., 0., 0., 0., 0., 0., 0., 0., 0.],\n",
       "        [0., 0., 0., 0., 0., 0., 0., 0., 0., 0., 0., 0.],\n",
       "        [0., 0., 0., 0., 0., 0., 0., 0., 0., 0., 0., 0.],\n",
       "        [0., 0., 0., 0., 0., 0., 0., 0., 0., 0., 0., 0.],\n",
       "        [1., 0., 1., 0., 0., 0., 0., 0., 0., 0., 0., 0.],\n",
       "        [0., 0., 0., 0., 0., 0., 0., 0., 0., 0., 1., 0.],\n",
       "        [0., 0., 0., 0., 0., 0., 0., 1., 0., 0., 0., 0.],\n",
       "        [0., 0., 0., 0., 0., 0., 0., 0., 0., 0., 0., 0.],\n",
       "        [0., 0., 0., 0., 0., 0., 0., 0., 0., 0., 0., 0.],\n",
       "        [0., 0., 0., 0., 0., 0., 0., 0., 0., 0., 0., 0.],\n",
       "        [0., 0., 0., 0., 0., 0., 0., 0., 0., 0., 0., 0.],\n",
       "        [0., 0., 0., 0., 0., 0., 0., 0., 0., 0., 0., 0.],\n",
       "        [0., 0., 0., 0., 0., 0., 0., 0., 0., 0., 0., 0.],\n",
       "        [0., 0., 1., 0., 1., 1., 0., 1., 1., 0., 1., 0.],\n",
       "        [0., 0., 0., 0., 0., 0., 0., 0., 0., 0., 0., 0.],\n",
       "        [0., 0., 0., 0., 0., 0., 0., 0., 0., 0., 0., 0.],\n",
       "        [0., 0., 0., 0., 0., 0., 0., 0., 0., 0., 0., 0.],\n",
       "        [0., 0., 0., 0., 0., 0., 0., 0., 0., 0., 0., 0.],\n",
       "        [0., 0., 0., 0., 1., 0., 0., 0., 0., 0., 0., 0.],\n",
       "        [0., 0., 0., 0., 0., 0., 0., 0., 0., 0., 0., 0.],\n",
       "        [0., 0., 0., 0., 0., 0., 0., 0., 0., 0., 0., 0.],\n",
       "        [0., 0., 0., 0., 0., 0., 0., 0., 0., 0., 0., 0.],\n",
       "        [0., 0., 0., 0., 0., 0., 0., 0., 0., 0., 0., 0.],\n",
       "        [0., 0., 0., 0., 0., 0., 0., 0., 0., 0., 0., 0.],\n",
       "        [0., 0., 0., 0., 0., 0., 0., 0., 0., 0., 0., 0.]])"
      ]
     },
     "execution_count": 93,
     "metadata": {},
     "output_type": "execute_result"
    }
   ],
   "source": [
    "labels"
   ]
  },
  {
   "cell_type": "code",
   "execution_count": 94,
   "id": "7609859b",
   "metadata": {},
   "outputs": [
    {
     "data": {
      "text/plain": [
       "tensor([[ 1.0444,  1.0374,  1.1304,  0.0000,  0.0000,  1.0536,  1.0294,  6.3094,\n",
       "          1.0362,  1.0612,  6.2289,  1.0651],\n",
       "        [ 1.0444,  1.0374,  1.1304,  1.0558,  0.0000,  1.0536,  1.0294,  0.0000,\n",
       "          1.0362,  0.0000,  1.1912,  1.0651],\n",
       "        [ 1.0444,  1.0374,  1.1304,  0.0000,  1.1444,  1.0536,  1.0294,  0.0000,\n",
       "          1.0362,  1.0612,  1.1912,  1.0651],\n",
       "        [23.5020, 27.7423,  1.1304,  0.0000,  0.0000,  1.0536,  1.0294,  1.1883,\n",
       "          1.0362,  1.0612,  1.1912,  1.0651],\n",
       "        [ 1.0444,  1.0374,  1.1304,  1.0558,  1.1444,  1.0536,  1.0294,  1.1883,\n",
       "          1.0362,  1.0612,  1.1912,  1.0651],\n",
       "        [ 1.0444,  1.0374,  1.1304,  1.0558,  1.1444,  1.0536,  1.0294,  1.1883,\n",
       "          1.0362,  1.0612,  1.1912,  1.0651],\n",
       "        [ 1.0444,  1.0374,  0.0000,  0.0000,  1.1444,  1.0536,  1.0294,  0.0000,\n",
       "          1.0362,  0.0000,  0.0000,  1.0651],\n",
       "        [ 1.0444,  1.0374,  1.1304,  1.0558,  1.1444,  1.0536,  1.0294,  0.0000,\n",
       "          1.0362,  0.0000,  1.1912,  1.0651],\n",
       "        [ 1.0444,  1.0374,  1.1304,  1.0558,  1.1444,  1.0536,  1.0294,  1.1883,\n",
       "          1.0362,  1.0612,  0.0000,  1.0651],\n",
       "        [ 1.0444,  1.0374,  1.1304,  1.0558,  1.1444,  1.0536,  0.0000,  0.0000,\n",
       "          1.0362,  1.0612,  0.0000,  1.0651],\n",
       "        [ 1.0444,  1.0374,  1.1304,  1.0558,  1.1444,  1.0536,  1.0294,  0.0000,\n",
       "          1.0362,  0.0000,  0.0000,  1.0651],\n",
       "        [23.5020,  1.0374,  8.6689,  0.0000,  1.1444,  1.0536,  1.0294,  1.1883,\n",
       "          1.0362,  1.0612,  1.1912,  1.0651],\n",
       "        [ 1.0444,  1.0374,  1.1304,  0.0000,  1.1444,  1.0536,  0.0000,  0.0000,\n",
       "          1.0362,  1.0612,  6.2289,  1.0651],\n",
       "        [ 1.0444,  1.0374,  1.1304,  1.0558,  1.1444,  1.0536,  1.0294,  6.3094,\n",
       "          1.0362,  1.0612,  0.0000,  1.0651],\n",
       "        [ 1.0444,  1.0374,  1.1304,  1.0558,  1.1444,  1.0536,  1.0294,  0.0000,\n",
       "          1.0362,  1.0612,  1.1912,  1.0651],\n",
       "        [ 1.0444,  1.0374,  0.0000,  1.0558,  1.1444,  1.0536,  1.0294,  1.1883,\n",
       "          1.0362,  1.0612,  1.1912,  1.0651],\n",
       "        [ 1.0444,  1.0374,  1.1304,  1.0558,  1.1444,  1.0536,  1.0294,  1.1883,\n",
       "          1.0362,  1.0612,  1.1912,  1.0651],\n",
       "        [ 1.0444,  1.0374,  1.1304,  1.0558,  0.0000,  1.0536,  1.0294,  0.0000,\n",
       "          1.0362,  1.0612,  1.1912,  1.0651],\n",
       "        [ 1.0444,  1.0374,  1.1304,  1.0558,  1.1444,  1.0536,  1.0294,  1.1883,\n",
       "          1.0362,  1.0612,  0.0000,  1.0651],\n",
       "        [ 1.0444,  0.0000,  1.1304,  1.0558,  0.0000,  0.0000,  1.0294,  1.1883,\n",
       "          1.0362,  1.0612,  1.1912,  1.0651],\n",
       "        [ 1.0444,  1.0374,  8.6689,  0.0000,  7.9264, 19.6608,  0.0000,  6.3094,\n",
       "         28.6244,  1.0612,  6.2289,  0.0000],\n",
       "        [ 0.0000,  1.0374,  1.1304,  0.0000,  1.1444,  1.0536,  1.0294,  1.1883,\n",
       "          1.0362,  1.0612,  1.1912,  1.0651],\n",
       "        [ 1.0444,  1.0374,  0.0000,  0.0000,  1.1444,  1.0536,  1.0294,  1.1883,\n",
       "          1.0362,  1.0612,  1.1912,  1.0651],\n",
       "        [ 1.0444,  1.0374,  1.1304,  0.0000,  1.1444,  1.0536,  1.0294,  0.0000,\n",
       "          1.0362,  1.0612,  0.0000,  1.0651],\n",
       "        [ 1.0444,  1.0374,  1.1304,  1.0558,  1.1444,  1.0536,  1.0294,  1.1883,\n",
       "          1.0362,  1.0612,  0.0000,  1.0651],\n",
       "        [ 1.0444,  1.0374,  1.1304,  1.0558,  7.9264,  1.0536,  1.0294,  1.1883,\n",
       "          1.0362,  1.0612,  0.0000,  1.0651],\n",
       "        [ 1.0444,  1.0374,  1.1304,  1.0558,  1.1444,  1.0536,  1.0294,  1.1883,\n",
       "          1.0362,  1.0612,  1.1912,  1.0651],\n",
       "        [ 1.0444,  1.0374,  1.1304,  1.0558,  1.1444,  1.0536,  1.0294,  1.1883,\n",
       "          1.0362,  1.0612,  1.1912,  1.0651],\n",
       "        [ 1.0444,  1.0374,  0.0000,  1.0558,  0.0000,  1.0536,  1.0294,  0.0000,\n",
       "          1.0362,  1.0612,  1.1912,  1.0651],\n",
       "        [ 1.0444,  1.0374,  1.1304,  1.0558,  1.1444,  1.0536,  1.0294,  1.1883,\n",
       "          1.0362,  1.0612,  1.1912,  1.0651],\n",
       "        [ 1.0444,  1.0374,  1.1304,  1.0558,  1.1444,  1.0536,  1.0294,  1.1883,\n",
       "          1.0362,  1.0612,  1.1912,  1.0651],\n",
       "        [ 1.0444,  1.0374,  1.1304,  1.0558,  1.1444,  1.0536,  1.0294,  1.1883,\n",
       "          1.0362,  1.0612,  1.1912,  1.0651]])"
      ]
     },
     "execution_count": 94,
     "metadata": {},
     "output_type": "execute_result"
    }
   ],
   "source": [
    "weights"
   ]
  },
  {
   "cell_type": "markdown",
   "id": "c04983e4",
   "metadata": {},
   "source": [
    "# Creating the SMILES LSTM Model"
   ]
  },
  {
   "cell_type": "code",
   "execution_count": 149,
   "id": "bb1de068",
   "metadata": {},
   "outputs": [],
   "source": [
    "class SMILESLstm(nn.Module):\n",
    "    def __init__(self,vocab_size,embedding_dim=128,hidden_dim = 256,num_layers = 2,output_dim = 12,dropout = 0.3):\n",
    "        super(SMILESLstm, self).__init__()\n",
    "        self.embeddings = nn.Embedding(vocab_size,embedding_dim,padding_idx = 0)\n",
    "\n",
    "        # lstm layer\n",
    "        self.lstm = nn.LSTM(\n",
    "            input_size = embedding_dim,\n",
    "            hidden_size = hidden_dim,\n",
    "            num_layers = num_layers,\n",
    "            dropout = dropout,\n",
    "            batch_first = True,\n",
    "            bidirectional = True\n",
    "        )\n",
    "\n",
    "        self.fc = nn.Linear(hidden_dim, output_dim)\n",
    "        self.dropout = nn.Dropout(dropout)\n",
    "    \n",
    "    def forward(self,x):\n",
    "        embedded = self.embeddings(x)\n",
    "        lstm_out,(hn,cn) = self.lstm(embedded)\n",
    "        last_hidden = hn[-1]\n",
    "        dropped = self.dropout(last_hidden)\n",
    "        output = self.fc(dropped)\n",
    "        return output\n",
    "\n"
   ]
  },
  {
   "cell_type": "code",
   "execution_count": 160,
   "id": "c3018cf9",
   "metadata": {},
   "outputs": [],
   "source": [
    "model = SMILESLstm(vocab_size)"
   ]
  },
  {
   "cell_type": "code",
   "execution_count": 161,
   "id": "1cb01f64",
   "metadata": {},
   "outputs": [
    {
     "data": {
      "text/plain": [
       "SMILESLstm(\n",
       "  (embeddings): Embedding(55, 128, padding_idx=0)\n",
       "  (lstm): LSTM(128, 256, num_layers=2, batch_first=True, dropout=0.3, bidirectional=True)\n",
       "  (fc): Linear(in_features=256, out_features=12, bias=True)\n",
       "  (dropout): Dropout(p=0.3, inplace=False)\n",
       ")"
      ]
     },
     "execution_count": 161,
     "metadata": {},
     "output_type": "execute_result"
    }
   ],
   "source": [
    "model"
   ]
  },
  {
   "cell_type": "code",
   "execution_count": 162,
   "id": "f479d4eb",
   "metadata": {},
   "outputs": [],
   "source": [
    "# training the model/"
   ]
  },
  {
   "cell_type": "code",
   "execution_count": 163,
   "id": "56d0ef62",
   "metadata": {},
   "outputs": [],
   "source": [
    "device = \"cuda\" if torch.cuda.is_available() else \"cpu\""
   ]
  },
  {
   "cell_type": "code",
   "execution_count": 164,
   "id": "ead3ad1e",
   "metadata": {},
   "outputs": [
    {
     "data": {
      "text/plain": [
       "'cuda'"
      ]
     },
     "execution_count": 164,
     "metadata": {},
     "output_type": "execute_result"
    }
   ],
   "source": [
    "device"
   ]
  },
  {
   "cell_type": "code",
   "execution_count": 165,
   "id": "8fbd89b8",
   "metadata": {},
   "outputs": [],
   "source": [
    "from tqdm.notebook import tqdm"
   ]
  },
  {
   "cell_type": "code",
   "execution_count": 166,
   "id": "ba054d51",
   "metadata": {},
   "outputs": [],
   "source": [
    "def train(model, train_loader, val_loader, num_epochs, device='cuda' if torch.cuda.is_available() else 'cpu'):\n",
    "    model = model.to(device)\n",
    "    optimizer = optim.Adam(model.parameters(), lr=1e-3,weight_decay=1e-5)\n",
    "    loss_fn = nn.BCEWithLogitsLoss(reduction='none')\n",
    "\n",
    "    for epoch in range(num_epochs):\n",
    "        model.train()\n",
    "        total_loss = 0\n",
    "\n",
    "        train_bar = tqdm(train_loader, desc=f\"Epoch {epoch+1}/{num_epochs}\", leave=False)\n",
    "        for x, y, w in train_bar:\n",
    "            x, y, w = x.to(device), y.to(device), w.to(device)\n",
    "\n",
    "            optimizer.zero_grad()\n",
    "            output = model(x)              # shape: (batch, 12)\n",
    "            loss = loss_fn(output, y)     # raw loss (no reduction), shape: (batch, 12)\n",
    "            loss = loss * w               # mask NaNs using weights\n",
    "            loss = loss.sum() / w.sum()   # average only over valid labels\n",
    "\n",
    "            loss.backward()\n",
    "            optimizer.step()\n",
    "\n",
    "            total_loss += loss.item()\n",
    "            train_bar.set_postfix(loss=loss.item())\n",
    "\n",
    "        avg_loss = total_loss / len(train_loader)\n",
    "        val_loss = evaluate(model, val_loader, loss_fn, device)\n",
    "        print(f\"🌟 Epoch {epoch+1}/{num_epochs} | 🏋️‍♂️ Train Loss: {avg_loss:.4f} | 📉 Val Loss: {val_loss:.4f}\")"
   ]
  },
  {
   "cell_type": "code",
   "execution_count": 167,
   "id": "412d8809",
   "metadata": {},
   "outputs": [],
   "source": [
    "@torch.no_grad()\n",
    "def evaluate(model, loader, loss_fn, device):\n",
    "    model.eval()\n",
    "    total_loss = 0\n",
    "\n",
    "    for x, y, w in loader:\n",
    "        x, y, w = x.to(device), y.to(device), w.to(device)\n",
    "\n",
    "        output = model(x)\n",
    "        loss = loss_fn(output, y)\n",
    "        loss = loss * w\n",
    "        loss = loss.sum() / w.sum()\n",
    "        total_loss += loss.item()\n",
    "\n",
    "    return total_loss / len(loader)"
   ]
  },
  {
   "cell_type": "code",
   "execution_count": 168,
   "id": "05bfc082",
   "metadata": {},
   "outputs": [
    {
     "data": {
      "application/vnd.jupyter.widget-view+json": {
       "model_id": "ef428d4c73984bb1b76c456e08814da1",
       "version_major": 2,
       "version_minor": 0
      },
      "text/plain": [
       "Epoch 1/20:   0%|          | 0/196 [00:00<?, ?it/s]"
      ]
     },
     "metadata": {},
     "output_type": "display_data"
    },
    {
     "name": "stdout",
     "output_type": "stream",
     "text": [
      "🌟 Epoch 1/20 | 🏋️‍♂️ Train Loss: 0.6719 | 📉 Val Loss: 0.6947\n"
     ]
    },
    {
     "data": {
      "application/vnd.jupyter.widget-view+json": {
       "model_id": "966751a4899a4e05be61b93129b16164",
       "version_major": 2,
       "version_minor": 0
      },
      "text/plain": [
       "Epoch 2/20:   0%|          | 0/196 [00:00<?, ?it/s]"
      ]
     },
     "metadata": {},
     "output_type": "display_data"
    },
    {
     "name": "stdout",
     "output_type": "stream",
     "text": [
      "🌟 Epoch 2/20 | 🏋️‍♂️ Train Loss: 0.6664 | 📉 Val Loss: 0.6746\n"
     ]
    },
    {
     "data": {
      "application/vnd.jupyter.widget-view+json": {
       "model_id": "fb84edeea6aa47dab3a842d9a785fcc7",
       "version_major": 2,
       "version_minor": 0
      },
      "text/plain": [
       "Epoch 3/20:   0%|          | 0/196 [00:00<?, ?it/s]"
      ]
     },
     "metadata": {},
     "output_type": "display_data"
    },
    {
     "name": "stdout",
     "output_type": "stream",
     "text": [
      "🌟 Epoch 3/20 | 🏋️‍♂️ Train Loss: 0.6520 | 📉 Val Loss: 0.6533\n"
     ]
    },
    {
     "data": {
      "application/vnd.jupyter.widget-view+json": {
       "model_id": "b6b6c2103c274fd396655ba2134656dc",
       "version_major": 2,
       "version_minor": 0
      },
      "text/plain": [
       "Epoch 4/20:   0%|          | 0/196 [00:00<?, ?it/s]"
      ]
     },
     "metadata": {},
     "output_type": "display_data"
    },
    {
     "name": "stdout",
     "output_type": "stream",
     "text": [
      "🌟 Epoch 4/20 | 🏋️‍♂️ Train Loss: 0.6333 | 📉 Val Loss: 0.6389\n"
     ]
    },
    {
     "data": {
      "application/vnd.jupyter.widget-view+json": {
       "model_id": "ff7d3ea94bbf4a618f345aa99f8f265b",
       "version_major": 2,
       "version_minor": 0
      },
      "text/plain": [
       "Epoch 5/20:   0%|          | 0/196 [00:00<?, ?it/s]"
      ]
     },
     "metadata": {},
     "output_type": "display_data"
    },
    {
     "name": "stdout",
     "output_type": "stream",
     "text": [
      "🌟 Epoch 5/20 | 🏋️‍♂️ Train Loss: 0.6059 | 📉 Val Loss: 0.6278\n"
     ]
    },
    {
     "data": {
      "application/vnd.jupyter.widget-view+json": {
       "model_id": "7b5fbaa53d6242fe93e0693d518d826d",
       "version_major": 2,
       "version_minor": 0
      },
      "text/plain": [
       "Epoch 6/20:   0%|          | 0/196 [00:00<?, ?it/s]"
      ]
     },
     "metadata": {},
     "output_type": "display_data"
    },
    {
     "name": "stdout",
     "output_type": "stream",
     "text": [
      "🌟 Epoch 6/20 | 🏋️‍♂️ Train Loss: 0.5913 | 📉 Val Loss: 0.6206\n"
     ]
    },
    {
     "data": {
      "application/vnd.jupyter.widget-view+json": {
       "model_id": "19244bd4323c449daedca647d4d1aee6",
       "version_major": 2,
       "version_minor": 0
      },
      "text/plain": [
       "Epoch 7/20:   0%|          | 0/196 [00:00<?, ?it/s]"
      ]
     },
     "metadata": {},
     "output_type": "display_data"
    },
    {
     "name": "stdout",
     "output_type": "stream",
     "text": [
      "🌟 Epoch 7/20 | 🏋️‍♂️ Train Loss: 0.5767 | 📉 Val Loss: 0.6135\n"
     ]
    },
    {
     "data": {
      "application/vnd.jupyter.widget-view+json": {
       "model_id": "502339170776424da763e564840ad70d",
       "version_major": 2,
       "version_minor": 0
      },
      "text/plain": [
       "Epoch 8/20:   0%|          | 0/196 [00:00<?, ?it/s]"
      ]
     },
     "metadata": {},
     "output_type": "display_data"
    },
    {
     "name": "stdout",
     "output_type": "stream",
     "text": [
      "🌟 Epoch 8/20 | 🏋️‍♂️ Train Loss: 0.5634 | 📉 Val Loss: 0.5875\n"
     ]
    },
    {
     "data": {
      "application/vnd.jupyter.widget-view+json": {
       "model_id": "4aa78e8cd1b64bb5a146595fbed6a5f7",
       "version_major": 2,
       "version_minor": 0
      },
      "text/plain": [
       "Epoch 9/20:   0%|          | 0/196 [00:00<?, ?it/s]"
      ]
     },
     "metadata": {},
     "output_type": "display_data"
    },
    {
     "name": "stdout",
     "output_type": "stream",
     "text": [
      "🌟 Epoch 9/20 | 🏋️‍♂️ Train Loss: 0.5471 | 📉 Val Loss: 0.5711\n"
     ]
    },
    {
     "data": {
      "application/vnd.jupyter.widget-view+json": {
       "model_id": "83ac97a9f2604554a25ef7b651a39a0d",
       "version_major": 2,
       "version_minor": 0
      },
      "text/plain": [
       "Epoch 10/20:   0%|          | 0/196 [00:00<?, ?it/s]"
      ]
     },
     "metadata": {},
     "output_type": "display_data"
    },
    {
     "name": "stdout",
     "output_type": "stream",
     "text": [
      "🌟 Epoch 10/20 | 🏋️‍♂️ Train Loss: 0.5263 | 📉 Val Loss: 0.5745\n"
     ]
    },
    {
     "data": {
      "application/vnd.jupyter.widget-view+json": {
       "model_id": "4390a22479b943109fc08d68cb57bf0f",
       "version_major": 2,
       "version_minor": 0
      },
      "text/plain": [
       "Epoch 11/20:   0%|          | 0/196 [00:00<?, ?it/s]"
      ]
     },
     "metadata": {},
     "output_type": "display_data"
    },
    {
     "name": "stdout",
     "output_type": "stream",
     "text": [
      "🌟 Epoch 11/20 | 🏋️‍♂️ Train Loss: 0.5165 | 📉 Val Loss: 0.5805\n"
     ]
    },
    {
     "data": {
      "application/vnd.jupyter.widget-view+json": {
       "model_id": "380060dd3cd34ba88f19ffaf5ed18bee",
       "version_major": 2,
       "version_minor": 0
      },
      "text/plain": [
       "Epoch 12/20:   0%|          | 0/196 [00:00<?, ?it/s]"
      ]
     },
     "metadata": {},
     "output_type": "display_data"
    },
    {
     "name": "stdout",
     "output_type": "stream",
     "text": [
      "🌟 Epoch 12/20 | 🏋️‍♂️ Train Loss: 0.4973 | 📉 Val Loss: 0.5665\n"
     ]
    },
    {
     "data": {
      "application/vnd.jupyter.widget-view+json": {
       "model_id": "61fa0390b6fc4bfdb9f9e69beb4643ee",
       "version_major": 2,
       "version_minor": 0
      },
      "text/plain": [
       "Epoch 13/20:   0%|          | 0/196 [00:00<?, ?it/s]"
      ]
     },
     "metadata": {},
     "output_type": "display_data"
    },
    {
     "name": "stdout",
     "output_type": "stream",
     "text": [
      "🌟 Epoch 13/20 | 🏋️‍♂️ Train Loss: 0.4761 | 📉 Val Loss: 0.5805\n"
     ]
    },
    {
     "data": {
      "application/vnd.jupyter.widget-view+json": {
       "model_id": "4c66a69ffee447848c9288f0b9427cbe",
       "version_major": 2,
       "version_minor": 0
      },
      "text/plain": [
       "Epoch 14/20:   0%|          | 0/196 [00:00<?, ?it/s]"
      ]
     },
     "metadata": {},
     "output_type": "display_data"
    },
    {
     "name": "stdout",
     "output_type": "stream",
     "text": [
      "🌟 Epoch 14/20 | 🏋️‍♂️ Train Loss: 0.4637 | 📉 Val Loss: 0.5743\n"
     ]
    },
    {
     "data": {
      "application/vnd.jupyter.widget-view+json": {
       "model_id": "00dd80a853734a7f8bd81dfa2037adfe",
       "version_major": 2,
       "version_minor": 0
      },
      "text/plain": [
       "Epoch 15/20:   0%|          | 0/196 [00:00<?, ?it/s]"
      ]
     },
     "metadata": {},
     "output_type": "display_data"
    },
    {
     "name": "stdout",
     "output_type": "stream",
     "text": [
      "🌟 Epoch 15/20 | 🏋️‍♂️ Train Loss: 0.4506 | 📉 Val Loss: 0.5696\n"
     ]
    },
    {
     "data": {
      "application/vnd.jupyter.widget-view+json": {
       "model_id": "5c63e9fdba0848e08c217f4ae90bc02f",
       "version_major": 2,
       "version_minor": 0
      },
      "text/plain": [
       "Epoch 16/20:   0%|          | 0/196 [00:00<?, ?it/s]"
      ]
     },
     "metadata": {},
     "output_type": "display_data"
    },
    {
     "name": "stdout",
     "output_type": "stream",
     "text": [
      "🌟 Epoch 16/20 | 🏋️‍♂️ Train Loss: 0.4360 | 📉 Val Loss: 0.5519\n"
     ]
    },
    {
     "data": {
      "application/vnd.jupyter.widget-view+json": {
       "model_id": "0895114533ca40a9b7576dd23757eea0",
       "version_major": 2,
       "version_minor": 0
      },
      "text/plain": [
       "Epoch 17/20:   0%|          | 0/196 [00:00<?, ?it/s]"
      ]
     },
     "metadata": {},
     "output_type": "display_data"
    },
    {
     "name": "stdout",
     "output_type": "stream",
     "text": [
      "🌟 Epoch 17/20 | 🏋️‍♂️ Train Loss: 0.4228 | 📉 Val Loss: 0.5569\n"
     ]
    },
    {
     "data": {
      "application/vnd.jupyter.widget-view+json": {
       "model_id": "cfbb176caf7d4447a54c54ece0afc892",
       "version_major": 2,
       "version_minor": 0
      },
      "text/plain": [
       "Epoch 18/20:   0%|          | 0/196 [00:00<?, ?it/s]"
      ]
     },
     "metadata": {},
     "output_type": "display_data"
    },
    {
     "name": "stdout",
     "output_type": "stream",
     "text": [
      "🌟 Epoch 18/20 | 🏋️‍♂️ Train Loss: 0.4098 | 📉 Val Loss: 0.5644\n"
     ]
    },
    {
     "data": {
      "application/vnd.jupyter.widget-view+json": {
       "model_id": "7b8a755ab41649978705423ba557d78e",
       "version_major": 2,
       "version_minor": 0
      },
      "text/plain": [
       "Epoch 19/20:   0%|          | 0/196 [00:00<?, ?it/s]"
      ]
     },
     "metadata": {},
     "output_type": "display_data"
    },
    {
     "name": "stdout",
     "output_type": "stream",
     "text": [
      "🌟 Epoch 19/20 | 🏋️‍♂️ Train Loss: 0.3892 | 📉 Val Loss: 0.6091\n"
     ]
    },
    {
     "data": {
      "application/vnd.jupyter.widget-view+json": {
       "model_id": "16b2f12c39a44bba81d8c9f02e06835b",
       "version_major": 2,
       "version_minor": 0
      },
      "text/plain": [
       "Epoch 20/20:   0%|          | 0/196 [00:00<?, ?it/s]"
      ]
     },
     "metadata": {},
     "output_type": "display_data"
    },
    {
     "name": "stdout",
     "output_type": "stream",
     "text": [
      "🌟 Epoch 20/20 | 🏋️‍♂️ Train Loss: 0.3810 | 📉 Val Loss: 0.5959\n"
     ]
    }
   ],
   "source": [
    "train(model,train_loader,val_loader,num_epochs = 20)"
   ]
  },
  {
   "cell_type": "code",
   "execution_count": 171,
   "id": "99edd884",
   "metadata": {},
   "outputs": [],
   "source": [
    "@torch.no_grad()\n",
    "def evaluate_on_test(model, test_loader, device='cuda' if torch.cuda.is_available() else 'cpu'):\n",
    "    from sklearn.metrics import roc_auc_score, f1_score\n",
    "\n",
    "    model.eval()\n",
    "    y_true, y_pred, y_mask = [], [], []\n",
    "\n",
    "    for x, y, w in test_loader:\n",
    "        x, y, w = x.to(device), y.to(device), w.to(device)\n",
    "        logits = model(x)\n",
    "        probs = torch.sigmoid(logits)\n",
    "        preds = (probs > 0.5).float()\n",
    "\n",
    "        y_true.append(y.cpu().numpy())\n",
    "        y_pred.append(preds.cpu().numpy())\n",
    "        y_mask.append(w.cpu().numpy())\n",
    "\n",
    "    y_true = np.concatenate(y_true, axis=0)\n",
    "    y_pred = np.concatenate(y_pred, axis=0)\n",
    "    y_mask = np.concatenate(y_mask, axis=0)\n",
    "\n",
    "    aucs, f1s = [], []\n",
    "    for i in range(y_true.shape[1]):\n",
    "        mask = y_mask[:, i] == 1\n",
    "        if np.sum(mask) < 2:  # skip targets with no data\n",
    "            aucs.append(np.nan)\n",
    "            f1s.append(np.nan)\n",
    "            continue\n",
    "\n",
    "        try:\n",
    "            auc = roc_auc_score(y_true[mask, i], y_pred[mask, i])\n",
    "            f1 = f1_score(y_true[mask, i], y_pred[mask, i])\n",
    "            aucs.append(auc)\n",
    "            f1s.append(f1)\n",
    "        except Exception as e:\n",
    "            aucs.append(np.nan)\n",
    "            f1s.append(np.nan)\n",
    "\n",
    "    mean_auc = np.nanmean(aucs)\n",
    "    mean_f1 = np.nanmean(f1s)\n",
    "\n",
    "    print(f\"🎯 Mean ROC-AUC: {mean_auc:.4f}\")\n",
    "    print(f\"🧠 Mean F1-score: {mean_f1:.4f}\")\n",
    "\n",
    "    return mean_auc, mean_f1, aucs\n"
   ]
  },
  {
   "cell_type": "code",
   "execution_count": 178,
   "id": "27e7cbfd",
   "metadata": {},
   "outputs": [],
   "source": [
    "def encode_smiles(smiles, char_to_idx, max_len=120):\n",
    "    pad_idx = char_to_idx['<PAD>']\n",
    "\n",
    "    # Replace unknown characters with <pad> (or skip them if you want)\n",
    "    encoded = [char_to_idx[c] if c in char_to_idx else pad_idx for c in smiles]\n",
    "\n",
    "    # Pad or truncate\n",
    "    if len(encoded) < max_len:\n",
    "        encoded += [pad_idx] * (max_len - len(encoded))\n",
    "    else:\n",
    "        encoded = encoded[:max_len]\n",
    "\n",
    "    return torch.tensor(encoded).unsqueeze(0)  # shape: (1, max_len)\n",
    "\n"
   ]
  },
  {
   "cell_type": "code",
   "execution_count": 179,
   "id": "cea859bf",
   "metadata": {},
   "outputs": [],
   "source": [
    "@torch.no_grad()\n",
    "def predict_toxicity(smiles_str, model, char_to_idx, threshold=0.5):\n",
    "    model.eval()\n",
    "    input_tensor = encode_smiles(smiles_str, char_to_idx).to(device)\n",
    "\n",
    "    logits = model(input_tensor)             # shape: (1, 12)\n",
    "    probs = torch.sigmoid(logits).squeeze()  # shape: (12,)\n",
    "    preds = (probs > threshold).int()\n",
    "\n",
    "    return probs.cpu().numpy(), preds.cpu().numpy()"
   ]
  },
  {
   "cell_type": "code",
   "execution_count": 190,
   "id": "6713ce9a",
   "metadata": {},
   "outputs": [],
   "source": [
    "import matplotlib.pyplot as plt\n",
    "\n",
    "def plot_toxicity_scores(smiles_str, probs, tox21_targets):\n",
    "    codes = [code for code, _ in tox21_targets]\n",
    "    names = [name for _, name in tox21_targets]\n",
    "\n",
    "    plt.figure(figsize=(10, 6))\n",
    "    bars = plt.barh(range(len(probs)), probs, color=['tomato' if p > 0.5 else 'mediumseagreen' for p in probs])\n",
    "    \n",
    "    plt.yticks(range(len(probs)), names)\n",
    "    plt.xlabel(\"Predicted Toxicity Score (Probability)\")\n",
    "    plt.title(f\"Toxicity Prediction for SMILES: {smiles_str}\")\n",
    "    plt.xlim(0, 1)\n",
    "\n",
    "    # Add values on bars\n",
    "    for i, bar in enumerate(bars):\n",
    "        plt.text(bar.get_width() + 0.01, bar.get_y() + 0.4, f\"{probs[i]:.2f}\", fontsize=9)\n",
    "\n",
    "    plt.tight_layout()\n",
    "    plt.show()"
   ]
  },
  {
   "cell_type": "code",
   "execution_count": 186,
   "id": "284f75be",
   "metadata": {},
   "outputs": [],
   "source": [
    "tox21_targets = [\n",
    "    (\"NR-AR\", \"Androgen Receptor\"),\n",
    "    (\"NR-AR-LBD\", \"Androgen Receptor LBD\"),\n",
    "    (\"NR-AhR\", \"Aryl Hydrocarbon Receptor\"),\n",
    "    (\"NR-Aromatase\", \"Aromatase\"),\n",
    "    (\"NR-ER\", \"Estrogen Receptor\"),\n",
    "    (\"NR-ER-LBD\", \"Estrogen Receptor LBD\"),\n",
    "    (\"NR-PPAR-gamma\", \"PPAR Gamma Receptor\"),\n",
    "    (\"SR-ARE\", \"Antioxidant Response Element\"),\n",
    "    (\"SR-ATAD5\", \"ATAD5 DNA Repair Pathway\"),\n",
    "    (\"SR-HSE\", \"Heat Shock Response Element\"),\n",
    "    (\"SR-MMP\", \"Mitochondrial Membrane Potential\"),\n",
    "    (\"SR-p53\", \"p53 Tumor Suppressor Pathway\")\n",
    "]"
   ]
  },
  {
   "cell_type": "code",
   "execution_count": 191,
   "id": "ebf91105",
   "metadata": {},
   "outputs": [
    {
     "name": "stdout",
     "output_type": "stream",
     "text": [
      "\n",
      "🧪 Toxicity Prediction for SMILES: C1=CC=CC=C1\n",
      "\n",
      "NR-AR        | Androgen Receptor                             | Score: 0.095 | ❌ Non-toxic\n",
      "NR-AR-LBD    | Androgen Receptor LBD                         | Score: 0.670 | ✅ Toxic\n",
      "NR-AhR       | Aryl Hydrocarbon Receptor                     | Score: 0.299 | ❌ Non-toxic\n",
      "NR-Aromatase | Aromatase                                     | Score: 0.429 | ❌ Non-toxic\n",
      "NR-ER        | Estrogen Receptor                             | Score: 0.314 | ❌ Non-toxic\n",
      "NR-ER-LBD    | Estrogen Receptor LBD                         | Score: 0.580 | ✅ Toxic\n",
      "NR-PPAR-gamma | PPAR Gamma Receptor                           | Score: 0.646 | ✅ Toxic\n",
      "SR-ARE       | Antioxidant Response Element                  | Score: 0.554 | ✅ Toxic\n",
      "SR-ATAD5     | ATAD5 DNA Repair Pathway                      | Score: 0.258 | ❌ Non-toxic\n",
      "SR-HSE       | Heat Shock Response Element                   | Score: 0.662 | ✅ Toxic\n",
      "SR-MMP       | Mitochondrial Membrane Potential              | Score: 0.448 | ❌ Non-toxic\n",
      "SR-p53       | p53 Tumor Suppressor Pathway                  | Score: 0.490 | ❌ Non-toxic\n"
     ]
    },
    {
     "data": {
      "image/png": "[encoded data removed]",
      "text/plain": [
       "<Figure size 1000x600 with 1 Axes>"
      ]
     },
     "metadata": {},
     "output_type": "display_data"
    }
   ],
   "source": [
    "test_smiles = \"C1=CC=CC=C1\"\n",
    "\n",
    "char_to_idx = {char: idx for idx, char in enumerate(vocabulary)}\n",
    "\n",
    "probs, preds = predict_toxicity(test_smiles, model, char_to_idx)\n",
    "\n",
    "print(f\"\\n🧪 Toxicity Prediction for SMILES: {test_smiles}\\n\")\n",
    "for i, (code, name) in enumerate(tox21_targets):\n",
    "    prob = probs[i]\n",
    "    label = \"✅ Toxic\" if preds[i] else \"❌ Non-toxic\"\n",
    "    print(f\"{code:12} | {name:45} | Score: {prob:.3f} | {label}\")\n",
    "\n",
    "plot_toxicity_scores(test_smiles, probs, tox21_targets)"
   ]
  },
  {
   "cell_type": "code",
   "execution_count": 189,
   "id": "aca7b3cf",
   "metadata": {},
   "outputs": [],
   "source": [
    "torch.save(model.state_dict(),\"../lstm_model_target_prediction.pth\")\n"
   ]
  },
  {
   "cell_type": "code",
   "execution_count": 192,
   "id": "7d5e1579",
   "metadata": {},
   "outputs": [],
   "source": [
    "# save the vocabualary"
   ]
  },
  {
   "cell_type": "code",
   "execution_count": 195,
   "id": "80587fb8",
   "metadata": {},
   "outputs": [],
   "source": [
    "import pickle\n",
    "\n",
    "with open(\"../vocab.pkl\", \"wb\") as f:\n",
    "    pickle.dump(vocabulary, f)"
   ]
  },
  {
   "cell_type": "code",
   "execution_count": 196,
   "id": "18348b8d",
   "metadata": {},
   "outputs": [],
   "source": [
    "import pickle\n",
    "\n",
    "with open(\"../vocab.pkl\", \"rb\") as f:\n",
    "    char_to_idx = pickle.load(f)"
   ]
  },
  {
   "cell_type": "code",
   "execution_count": null,
   "id": "007b2c97",
   "metadata": {},
   "outputs": [],
   "source": []
  },
  {
   "cell_type": "code",
   "execution_count": null,
   "id": "a852419a",
   "metadata": {},
   "outputs": [],
   "source": []
  },
  {
   "cell_type": "code",
   "execution_count": null,
   "id": "ab5daae5",
   "metadata": {},
   "outputs": [],
   "source": []
  }
 ],
 "metadata": {
  "kernelspec": {
   "display_name": "deep_learning_env",
   "language": "python",
   "name": "python3"
  },
  "language_info": {
   "codemirror_mode": {
    "name": "ipython",
    "version": 3
   },
   "file_extension": ".py",
   "mimetype": "text/x-python",
   "name": "python",
   "nbconvert_exporter": "python",
   "pygments_lexer": "ipython3",
   "version": "3.9.23"
  }
 },
 "nbformat": 4,
 "nbformat_minor": 5
}
